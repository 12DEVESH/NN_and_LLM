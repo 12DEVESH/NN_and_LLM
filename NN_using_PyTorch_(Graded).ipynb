{
  "nbformat": 4,
  "nbformat_minor": 0,
  "metadata": {
    "colab": {
      "provenance": []
    },
    "kernelspec": {
      "name": "python3",
      "display_name": "Python 3"
    },
    "language_info": {
      "name": "python"
    }
  },
  "cells": [
    {
      "cell_type": "markdown",
      "source": [
        "# **PyTorch Implementation of Neural Networks**\n",
        "In this week's graded assignment, you will implement a neural network that will perform binary classification on a set of images (ie. is or is not).\n",
        "\n",
        "You are to only write/modify the code in between consecutive `# <START>` and `# <END>` comments. DO NOT modify other parts of the notebook, your assignments will not be graded otherwise.\n",
        "\n",
        "```python\n",
        "\"Don't modify any code here\"\n",
        "\n",
        "# <START>\n",
        "\"YOUR CODE GOES HERE!\"\n",
        "# <END>\n",
        "\n",
        "\"Don't modify any code here\"\n",
        "```\n",
        "## **Before you begin**\n",
        "Before you start with the assignment, you will have to upload the images that you will classify to your Google Drive.  \n",
        "You will be able to find the compressed folder named **\"pizza_vs_not\"** on both the GitHub repo and the Week 1 MS Teams channel.  \n",
        "Download the file, unzip it, and then upload it to your Drive.\n",
        "\n",
        "### **Make sure to upload to the same account that you are using on Colab, otherwise you won't be able to access the files**\n"
      ],
      "metadata": {
        "id": "pbwA7e12AVLe"
      }
    },
    {
      "cell_type": "markdown",
      "source": [
        "## **Mounting Google Drive**\n",
        "First, we need to import the dataset of images from your Google Drive. To do so, **run the below cell**. This will mount your Drive to the running Colab instance. Then, you will be able to access all your Google Drive data in this notebook."
      ],
      "metadata": {
        "id": "D0lIe1uahq_L"
      }
    },
    {
      "cell_type": "code",
      "source": [
        "from google.colab import drive\n",
        "drive.mount('/content/drive')"
      ],
      "metadata": {
        "id": "ObnNbRJPQrYK",
        "outputId": "658cf214-204e-453f-95c8-055cfde2758f",
        "colab": {
          "base_uri": "https://localhost:8080/"
        }
      },
      "execution_count": null,
      "outputs": [
        {
          "output_type": "stream",
          "name": "stdout",
          "text": [
            "Mounted at /content/drive\n"
          ]
        }
      ]
    },
    {
      "cell_type": "markdown",
      "source": [
        "## **Import the Libraries**\n",
        "\n",
        "Run the cell below to import all the necessary libraries for building the neural network using PyTorch.  \n",
        "You will primarily use the **`nn` module** of the **PyTorch** library for building the neural network."
      ],
      "metadata": {
        "id": "ElYLMOGFBq1r"
      }
    },
    {
      "cell_type": "code",
      "execution_count": null,
      "metadata": {
        "id": "1ZVxJx87kAAN"
      },
      "outputs": [],
      "source": [
        "import os\n",
        "import numpy as np\n",
        "import torch\n",
        "import torch.nn as nn\n",
        "import matplotlib.pyplot as plt\n",
        "import matplotlib.image as mpimg\n",
        "%matplotlib inline"
      ]
    },
    {
      "cell_type": "markdown",
      "source": [
        "## **Importing the Dataset**\n",
        "\n",
        "We now need to import the dataset from the Google Drive. Below given is a function named `getdata`, which takes the path of the folder from which data is to be imported as its argument.\n",
        "\n",
        "You are required to give in the path of the folder in which the images of `pizza` and `not_pizza` are saved in your Google Drive. Locate the path using the Colab File Explorer (the file icon in the sidebar).\n",
        "\n",
        "The `getdata` function reads each image stored at the given path and converts and stores it as a PyTorch Tensor.\n",
        "\n",
        "_Note: This cell may take a while to finish running_\n",
        "<details>\n",
        "  <summary>Hint</summary>\n",
        "  The Google Drive was mounted to the location \"/content/drive\", containing the folder \"My Drive\", which corresponds to your actual Google Drive.\n",
        "</details>"
      ],
      "metadata": {
        "id": "GpoxEmvICmNr"
      }
    },
    {
      "cell_type": "code",
      "source": [
        "def getdata(path):\n",
        "  data = torch.tensor([])\n",
        "  file_list = os.listdir(path)\n",
        "  for file_name in file_list[:350]:\n",
        "    image_path = os.path.join(path, file_name)\n",
        "    image = mpimg.imread(image_path)\n",
        "    imageData = torch.from_numpy(image).long()\n",
        "    data = torch.cat((data, imageData.unsqueeze(0)), dim=0)\n",
        "  return data\n",
        "\n",
        "# <START>\n",
        "pizza_path = '/content/drive/Shareddrives/learners_space_iitb23/pizza_vs_not/pizza'\n",
        "not_pizza_path = '/content/drive/Shareddrives/learners_space_iitb23/pizza_vs_not/not_pizza'\n",
        "# <END>\n",
        "\n",
        "not_pizza_data = getdata(not_pizza_path)\n",
        "pizza_data = getdata(pizza_path)"
      ],
      "metadata": {
        "id": "QvO6vf9cqR5i"
      },
      "execution_count": null,
      "outputs": []
    },
    {
      "cell_type": "markdown",
      "source": [
        "Using the next cell, you can preview the images you've just loaded"
      ],
      "metadata": {
        "id": "SIucUmRBGaZJ"
      }
    },
    {
      "cell_type": "code",
      "source": [
        "# Change values of index, data\n",
        "# <START>\n",
        "index = 250 # 0 to 349\n",
        "data = not_pizza_data # pizza_data (or) not_pizza_data\n",
        "# <END>\n",
        "\n",
        "plt.imshow(data[index].int())"
      ],
      "metadata": {
        "id": "7a_9TI1zEd7r",
        "outputId": "f1e278a4-c59f-402c-8236-fb72ee2eb271",
        "colab": {
          "base_uri": "https://localhost:8080/",
          "height": 450
        }
      },
      "execution_count": null,
      "outputs": [
        {
          "output_type": "execute_result",
          "data": {
            "text/plain": [
              "<matplotlib.image.AxesImage at 0x7f2193fdcc70>"
            ]
          },
          "metadata": {},
          "execution_count": 6
        },
        {
          "output_type": "display_data",
          "data": {
            "text/plain": [
              "<Figure size 640x480 with 1 Axes>"
            ],
            "image/png": "[encoded data removed]"
          },
          "metadata": {}
        }
      ]
    },
    {
      "cell_type": "markdown",
      "source": [
        "## **Preprocessing the dataset**\n",
        "\n",
        "Before we begin working with the neural network, we need to make sure our data (in this case, $64\\times64$ RGB images) is in a format that neural networks can work with.\n",
        "\n",
        "First, we create a `train_data` collection of images for training the neural network, and another collection `test_data` that will then be used to check the accuracy of the trained neural network. We do this by taking slices of the total data and concatenating them.  "
      ],
      "metadata": {
        "id": "uiKp-IkYDpB_"
      }
    },
    {
      "cell_type": "code",
      "source": [
        "train_data = torch.cat((pizza_data[:300], not_pizza_data[:200]), dim = 0)\n",
        "test_data = torch.cat((pizza_data[300:350], not_pizza_data[200:250]), dim = 0)\n",
        "print(train_data.shape)\n",
        "print(not_pizza_data.shape)\n",
        "print()"
      ],
      "metadata": {
        "id": "qHHnTe3Hq8cr",
        "outputId": "36a5c228-bcc5-4897-f7c4-11a8e25fab4a",
        "colab": {
          "base_uri": "https://localhost:8080/"
        }
      },
      "execution_count": null,
      "outputs": [
        {
          "output_type": "stream",
          "name": "stdout",
          "text": [
            "torch.Size([500, 64, 64, 3])\n",
            "torch.Size([350, 64, 64, 3])\n",
            "\n"
          ]
        }
      ]
    },
    {
      "cell_type": "markdown",
      "source": [
        "Each image is still stored as a $64\\times64\\times3$ tensor ie. a $64\\times64$ array of 3 numbers - the RGB values of the pixel, taking values between **0 to 255**.  \n",
        "You need to flatten the images in both datasets to make *reshaped* data, and normalise them to get the *final* data we will use to train and test the model.\n",
        "\n",
        "<details>\n",
        "  <summary>Hint</summary>\n",
        "  Use the reshape command to flatten the dataset and then normalise the flattened dataset (ie. make sure all the values lie between 0 and 1).\n",
        "</details>"
      ],
      "metadata": {
        "id": "gp5rsLIAEBKa"
      }
    },
    {
      "cell_type": "code",
      "source": [
        "# <START>\n",
        "flatten = nn.Flatten()\n",
        "reshaped_train_data = flatten(train_data)#train_data.reshape(train_data.shape[0],-1).T\n",
        "reshaped_test_data = flatten(test_data)#test_data.reshape(test_data.shape[0],-1).T\n",
        "# we can also use flatten\n",
        "\n",
        "final_train_data = reshaped_train_data/255\n",
        "final_test_data =  reshaped_test_data/255\n",
        "\n",
        "# <END>\n",
        "\n",
        "print(final_train_data.shape, final_test_data.shape)"
      ],
      "metadata": {
        "id": "XxdYwPTe3dMr",
        "outputId": "1d60dec6-8959-4b09-aede-eeb2048c556d",
        "colab": {
          "base_uri": "https://localhost:8080/"
        }
      },
      "execution_count": null,
      "outputs": [
        {
          "output_type": "stream",
          "name": "stdout",
          "text": [
            "torch.Size([500, 12288]) torch.Size([100, 12288])\n"
          ]
        }
      ]
    },
    {
      "cell_type": "markdown",
      "source": [
        "Now that you have made two datasets, you need to make their corresponding `labels` Tensors, which store the true output for each image (whether or not it is a pizza).\n",
        "\n",
        "In the `labels` Tensor, use **`1`** for images that belong to `pizza` and **`0`** for `not_pizza`. (Try to use the concatenate function instead of simply using *for* loops for generating the `labels` Tensor !!)\n",
        "\n",
        "**Remember** to ensure that both `train_labels` and `test_labels` are 2D tensors of appropriate dimensions. Otherwise, it can cause issues ahead."
      ],
      "metadata": {
        "id": "CN9sZzmAEhed"
      }
    },
    {
      "cell_type": "code",
      "source": [
        "# <START>\n",
        "shape = (350,1)\n",
        "pizza_label = torch.ones(shape)\n",
        "not_pizza_label = torch.zeros(shape)\n",
        "\n",
        "train_labels = torch.cat((pizza_label[:300], not_pizza_label[:200]), dim = 0)\n",
        "test_labels = torch.cat((pizza_label[300:350], not_pizza_label[200:250]), dim = 0)\n",
        "\n",
        "# <END>\n",
        "\n",
        "print(train_labels.shape, test_labels.shape)"
      ],
      "metadata": {
        "id": "AB9ngSqaruoK",
        "colab": {
          "base_uri": "https://localhost:8080/"
        },
        "outputId": "a6cb6ff1-2e38-4b16-e73a-13a6b6e08554"
      },
      "execution_count": null,
      "outputs": [
        {
          "output_type": "stream",
          "name": "stdout",
          "text": [
            "torch.Size([500, 1]) torch.Size([100, 1])\n"
          ]
        }
      ]
    },
    {
      "cell_type": "markdown",
      "source": [
        "##**Building the Neural Network**\n",
        "\n",
        "Now, we will start making the actual neural network.\n",
        "\n",
        "First, initialise the hyperparameters of the neural network.  \n",
        "Here, we are going to make a 3 layer neural network (i.e., 1 input layer, 2 hidden layers and 1 output layer). The first hidden layer will have 10 nodes, while the second will have 12.   \n",
        "Enter the number of input parameters, number of nodes of each hidden layer and the number of output parameters."
      ],
      "metadata": {
        "id": "tfcBVaGoFVH-"
      }
    },
    {
      "cell_type": "code",
      "source": [
        "# <START>\n",
        "\n",
        "D_in = 12288\n",
        "H1 = 10\n",
        "H2 = 12\n",
        "D_out = 1\n",
        "\n",
        "# <END>"
      ],
      "metadata": {
        "id": "Nzoq4S8aqY88"
      },
      "execution_count": null,
      "outputs": []
    },
    {
      "cell_type": "markdown",
      "source": [
        "Now you will make the actual model. The Model includes the use of `Linear` function at each layer, alongside non-linear activation functions.\n",
        "\n",
        "We are going to use `ReLU` functions as activation functions for the input and the first hidden layer and `Sigmoid` function for the final output, as we want an output between 0 and 1.\n",
        "\n",
        "(Hint: `Linear`, `ReLU` and `Sigmoid` functions are a part of the `nn` module of the **PyTorch** library)"
      ],
      "metadata": {
        "id": "k99hJnXbGAwS"
      }
    },
    {
      "cell_type": "code",
      "source": [
        "\n",
        "model = torch.nn.Sequential(\n",
        "    # Do not hard-code any values, use the variables from the previous cell\n",
        "    # <START>\n",
        "    nn.Linear(in_features=D_in,out_features=H1),\n",
        "    nn.ReLU(),\n",
        "    nn.Linear(H1,H2),\n",
        "    nn.ReLU(),\n",
        "    nn.Linear(H2,D_out),\n",
        "    nn.Sigmoid()\n",
        "    # <END>\n",
        "\n",
        ")\n"
      ],
      "metadata": {
        "id": "YFA7NWqTqdlu"
      },
      "execution_count": null,
      "outputs": []
    },
    {
      "cell_type": "code",
      "source": [
        "model(final_train_data[0]) #To check if the model works"
      ],
      "metadata": {
        "id": "nkoOyUiYzTGA",
        "colab": {
          "base_uri": "https://localhost:8080/"
        },
        "outputId": "0c1d545e-3eb2-4fd7-9b0b-7102d167be2e"
      },
      "execution_count": null,
      "outputs": [
        {
          "output_type": "execute_result",
          "data": {
            "text/plain": [
              "tensor([0.5641], grad_fn=<SigmoidBackward0>)"
            ]
          },
          "metadata": {},
          "execution_count": 11
        }
      ]
    },
    {
      "cell_type": "markdown",
      "source": [
        "After making the model, we defined the `loss_fn` , i.e., the loss function as the Binary Cross Entropy Loss.\n",
        "\n",
        "Here, you will implement gradient descent.\n",
        "\n",
        "The `learning_rate` is the step size which the neural network takes when it updates the parameters of the network. (Try to explore various values of step size. Values similar to 0.005 are usually suitable). Also play around with the number of `iterations` the gradient descent algorithm needs to take.\n",
        "\n",
        "**Follow the steps given as per the comments.**\n",
        "\n",
        "*Note: When you run the code, it could take about 5 minutes for the network to finish training.*"
      ],
      "metadata": {
        "id": "pI5qXU5fHPG2"
      }
    },
    {
      "cell_type": "code",
      "source": [
        "print(f\"Model structure: {model}\\n\\n\")\n",
        "\n",
        "for name, param in model.named_parameters():\n",
        "    print(f\"Layer: {name} | Size: {param.size()} | Values : {param[:2]} \\n\")"
      ],
      "metadata": {
        "colab": {
          "base_uri": "https://localhost:8080/"
        },
        "id": "-gmU2Agq4ijY",
        "outputId": "4167facf-e32c-40ed-9e16-b768caf0da0d"
      },
      "execution_count": null,
      "outputs": [
        {
          "output_type": "stream",
          "name": "stdout",
          "text": [
            "Model structure: Sequential(\n",
            "  (0): Linear(in_features=12288, out_features=10, bias=True)\n",
            "  (1): ReLU()\n",
            "  (2): Linear(in_features=10, out_features=12, bias=True)\n",
            "  (3): ReLU()\n",
            "  (4): Linear(in_features=12, out_features=1, bias=True)\n",
            "  (5): Sigmoid()\n",
            ")\n",
            "\n",
            "\n",
            "Layer: 0.weight | Size: torch.Size([10, 12288]) | Values : tensor([[-0.0056,  0.0058,  0.0003,  ...,  0.0017,  0.0090, -0.0012],\n",
            "        [-0.0006,  0.0069,  0.0055,  ..., -0.0033,  0.0084, -0.0027]],\n",
            "       grad_fn=<SliceBackward0>) \n",
            "\n",
            "Layer: 0.bias | Size: torch.Size([10]) | Values : tensor([-0.0070,  0.0062], grad_fn=<SliceBackward0>) \n",
            "\n",
            "Layer: 2.weight | Size: torch.Size([12, 10]) | Values : tensor([[-0.1623,  0.1977, -0.0088,  0.1105,  0.0743, -0.2830,  0.1675, -0.2636,\n",
            "          0.0218,  0.0979],\n",
            "        [-0.2356, -0.1159, -0.0364, -0.0542, -0.1366,  0.1309,  0.0627, -0.0031,\n",
            "         -0.0262,  0.0502]], grad_fn=<SliceBackward0>) \n",
            "\n",
            "Layer: 2.bias | Size: torch.Size([12]) | Values : tensor([ 0.2285, -0.0754], grad_fn=<SliceBackward0>) \n",
            "\n",
            "Layer: 4.weight | Size: torch.Size([1, 12]) | Values : tensor([[-0.1619, -0.0358, -0.2043,  0.2134,  0.0104, -0.0924,  0.0478,  0.1815,\n",
            "          0.1596,  0.2835,  0.1975, -0.1294]], grad_fn=<SliceBackward0>) \n",
            "\n",
            "Layer: 4.bias | Size: torch.Size([1]) | Values : tensor([-0.0979], grad_fn=<SliceBackward0>) \n",
            "\n"
          ]
        }
      ]
    },
    {
      "cell_type": "code",
      "source": [
        "loss_fn = nn.BCELoss()\n",
        "\n",
        "# <START>\n",
        "\n",
        "learning_rate = 0.005\n",
        "iterations = 10000\n",
        "\n",
        "optimizer = torch.optim.SGD(model.parameters(),lr = learning_rate)\n",
        "model.train()\n",
        "\n",
        "for t in range(iterations):\n",
        "\n",
        "    # call the model on the dataset\n",
        "    y_pred = model(final_train_data)\n",
        "\n",
        "    #calculate the loss\n",
        "    loss = loss_fn(y_pred,train_labels)\n",
        "\n",
        "    if t%1000 == 1:\n",
        "        print(loss)\n",
        "\n",
        "    #calculate the gradients (dont forget to reset the gradients before you begin)\n",
        "    optimizer.zero_grad()# reset the grads\n",
        "\n",
        "    loss.backward()# calculate the grads\n",
        "\n",
        "    # update the values of the parameters\n",
        "    optimizer.step()\n",
        "\n",
        "# <END>\n",
        "\n",
        "torch.save(model, 'model_best.pt')"
      ],
      "metadata": {
        "id": "WrcyQE-nqgUL",
        "colab": {
          "base_uri": "https://localhost:8080/"
        },
        "outputId": "b43b9cbf-0ec7-42fd-a604-0c5f834a6daf"
      },
      "execution_count": null,
      "outputs": [
        {
          "output_type": "stream",
          "name": "stdout",
          "text": [
            "tensor(0.6801, grad_fn=<BinaryCrossEntropyBackward0>)\n",
            "tensor(0.2713, grad_fn=<BinaryCrossEntropyBackward0>)\n",
            "tensor(0.0725, grad_fn=<BinaryCrossEntropyBackward0>)\n",
            "tensor(0.0199, grad_fn=<BinaryCrossEntropyBackward0>)\n",
            "tensor(0.0089, grad_fn=<BinaryCrossEntropyBackward0>)\n",
            "tensor(0.0052, grad_fn=<BinaryCrossEntropyBackward0>)\n",
            "tensor(0.0036, grad_fn=<BinaryCrossEntropyBackward0>)\n",
            "tensor(0.0026, grad_fn=<BinaryCrossEntropyBackward0>)\n",
            "tensor(0.0021, grad_fn=<BinaryCrossEntropyBackward0>)\n",
            "tensor(0.0017, grad_fn=<BinaryCrossEntropyBackward0>)\n"
          ]
        }
      ]
    },
    {
      "cell_type": "code",
      "source": [
        "print(y_pred)"
      ],
      "metadata": {
        "colab": {
          "base_uri": "https://localhost:8080/"
        },
        "id": "m_YM0TfRTYXM",
        "outputId": "795f6d9c-27d0-4a0e-8961-70415e785506"
      },
      "execution_count": null,
      "outputs": [
        {
          "output_type": "stream",
          "name": "stdout",
          "text": [
            "tensor([[1.0000e+00],\n",
            "        [9.9887e-01],\n",
            "        [1.0000e+00],\n",
            "        [9.9991e-01],\n",
            "        [9.9987e-01],\n",
            "        [9.9981e-01],\n",
            "        [9.9932e-01],\n",
            "        [1.0000e+00],\n",
            "        [9.9999e-01],\n",
            "        [9.9842e-01],\n",
            "        [9.9768e-01],\n",
            "        [1.0000e+00],\n",
            "        [1.0000e+00],\n",
            "        [9.9967e-01],\n",
            "        [1.0000e+00],\n",
            "        [9.9660e-01],\n",
            "        [9.9945e-01],\n",
            "        [9.9559e-01],\n",
            "        [9.9793e-01],\n",
            "        [1.0000e+00],\n",
            "        [9.9981e-01],\n",
            "        [9.9999e-01],\n",
            "        [9.9995e-01],\n",
            "        [9.9965e-01],\n",
            "        [1.0000e+00],\n",
            "        [1.0000e+00],\n",
            "        [9.9748e-01],\n",
            "        [9.9993e-01],\n",
            "        [9.9997e-01],\n",
            "        [9.9520e-01],\n",
            "        [9.9895e-01],\n",
            "        [9.9870e-01],\n",
            "        [9.9869e-01],\n",
            "        [1.0000e+00],\n",
            "        [9.9978e-01],\n",
            "        [9.9999e-01],\n",
            "        [9.9575e-01],\n",
            "        [9.9742e-01],\n",
            "        [1.0000e+00],\n",
            "        [9.9528e-01],\n",
            "        [9.9924e-01],\n",
            "        [1.0000e+00],\n",
            "        [9.9996e-01],\n",
            "        [9.9948e-01],\n",
            "        [9.9969e-01],\n",
            "        [9.9863e-01],\n",
            "        [9.9999e-01],\n",
            "        [1.0000e+00],\n",
            "        [9.9486e-01],\n",
            "        [9.9638e-01],\n",
            "        [9.9785e-01],\n",
            "        [1.0000e+00],\n",
            "        [9.9096e-01],\n",
            "        [1.0000e+00],\n",
            "        [1.0000e+00],\n",
            "        [9.9998e-01],\n",
            "        [9.9822e-01],\n",
            "        [9.9847e-01],\n",
            "        [9.9869e-01],\n",
            "        [1.0000e+00],\n",
            "        [9.9943e-01],\n",
            "        [9.9357e-01],\n",
            "        [9.9993e-01],\n",
            "        [9.9912e-01],\n",
            "        [9.9990e-01],\n",
            "        [9.9974e-01],\n",
            "        [1.0000e+00],\n",
            "        [9.9998e-01],\n",
            "        [9.9316e-01],\n",
            "        [9.9997e-01],\n",
            "        [9.9994e-01],\n",
            "        [9.9998e-01],\n",
            "        [9.9983e-01],\n",
            "        [9.9993e-01],\n",
            "        [1.0000e+00],\n",
            "        [9.9664e-01],\n",
            "        [9.9999e-01],\n",
            "        [9.9960e-01],\n",
            "        [9.9916e-01],\n",
            "        [9.9988e-01],\n",
            "        [9.9997e-01],\n",
            "        [9.9971e-01],\n",
            "        [9.9923e-01],\n",
            "        [9.9894e-01],\n",
            "        [1.0000e+00],\n",
            "        [9.9666e-01],\n",
            "        [1.0000e+00],\n",
            "        [1.0000e+00],\n",
            "        [9.9845e-01],\n",
            "        [9.9936e-01],\n",
            "        [9.9810e-01],\n",
            "        [9.9999e-01],\n",
            "        [9.9988e-01],\n",
            "        [9.9904e-01],\n",
            "        [9.9998e-01],\n",
            "        [1.0000e+00],\n",
            "        [9.9974e-01],\n",
            "        [9.9965e-01],\n",
            "        [1.0000e+00],\n",
            "        [9.9003e-01],\n",
            "        [9.9915e-01],\n",
            "        [9.9996e-01],\n",
            "        [9.9920e-01],\n",
            "        [9.9999e-01],\n",
            "        [9.9937e-01],\n",
            "        [9.9999e-01],\n",
            "        [1.0000e+00],\n",
            "        [9.9994e-01],\n",
            "        [1.0000e+00],\n",
            "        [9.9993e-01],\n",
            "        [9.9291e-01],\n",
            "        [9.9930e-01],\n",
            "        [9.9996e-01],\n",
            "        [9.9996e-01],\n",
            "        [9.9997e-01],\n",
            "        [9.9797e-01],\n",
            "        [9.9960e-01],\n",
            "        [9.9969e-01],\n",
            "        [9.9225e-01],\n",
            "        [9.9955e-01],\n",
            "        [9.9801e-01],\n",
            "        [9.9999e-01],\n",
            "        [9.9779e-01],\n",
            "        [9.9991e-01],\n",
            "        [9.9662e-01],\n",
            "        [9.9994e-01],\n",
            "        [9.9999e-01],\n",
            "        [9.9853e-01],\n",
            "        [9.9999e-01],\n",
            "        [9.9954e-01],\n",
            "        [1.0000e+00],\n",
            "        [9.9886e-01],\n",
            "        [9.9763e-01],\n",
            "        [1.0000e+00],\n",
            "        [9.9861e-01],\n",
            "        [9.9813e-01],\n",
            "        [9.9952e-01],\n",
            "        [9.9977e-01],\n",
            "        [1.0000e+00],\n",
            "        [1.0000e+00],\n",
            "        [9.9940e-01],\n",
            "        [1.0000e+00],\n",
            "        [9.9932e-01],\n",
            "        [9.9991e-01],\n",
            "        [9.9995e-01],\n",
            "        [1.0000e+00],\n",
            "        [1.0000e+00],\n",
            "        [1.0000e+00],\n",
            "        [1.0000e+00],\n",
            "        [9.9982e-01],\n",
            "        [9.9976e-01],\n",
            "        [9.9927e-01],\n",
            "        [9.9990e-01],\n",
            "        [9.9753e-01],\n",
            "        [9.9916e-01],\n",
            "        [1.0000e+00],\n",
            "        [9.9989e-01],\n",
            "        [9.9990e-01],\n",
            "        [1.0000e+00],\n",
            "        [9.9999e-01],\n",
            "        [9.9673e-01],\n",
            "        [9.9996e-01],\n",
            "        [9.9883e-01],\n",
            "        [9.9987e-01],\n",
            "        [9.9457e-01],\n",
            "        [9.9810e-01],\n",
            "        [9.9995e-01],\n",
            "        [9.9982e-01],\n",
            "        [9.9996e-01],\n",
            "        [9.9957e-01],\n",
            "        [1.0000e+00],\n",
            "        [9.9113e-01],\n",
            "        [9.9998e-01],\n",
            "        [1.0000e+00],\n",
            "        [9.9916e-01],\n",
            "        [9.9999e-01],\n",
            "        [9.9993e-01],\n",
            "        [9.9993e-01],\n",
            "        [9.9910e-01],\n",
            "        [9.9935e-01],\n",
            "        [9.9958e-01],\n",
            "        [9.9763e-01],\n",
            "        [9.9859e-01],\n",
            "        [1.0000e+00],\n",
            "        [9.9997e-01],\n",
            "        [1.0000e+00],\n",
            "        [9.9526e-01],\n",
            "        [9.9995e-01],\n",
            "        [9.9939e-01],\n",
            "        [9.9393e-01],\n",
            "        [1.0000e+00],\n",
            "        [9.9999e-01],\n",
            "        [9.9908e-01],\n",
            "        [9.9766e-01],\n",
            "        [9.9775e-01],\n",
            "        [9.9923e-01],\n",
            "        [9.9927e-01],\n",
            "        [9.9859e-01],\n",
            "        [9.9911e-01],\n",
            "        [9.9982e-01],\n",
            "        [9.9973e-01],\n",
            "        [9.9839e-01],\n",
            "        [9.9756e-01],\n",
            "        [9.9837e-01],\n",
            "        [9.9998e-01],\n",
            "        [9.9892e-01],\n",
            "        [9.9740e-01],\n",
            "        [9.9951e-01],\n",
            "        [9.9997e-01],\n",
            "        [1.0000e+00],\n",
            "        [9.9901e-01],\n",
            "        [9.9974e-01],\n",
            "        [9.9997e-01],\n",
            "        [9.9987e-01],\n",
            "        [9.9987e-01],\n",
            "        [9.9989e-01],\n",
            "        [9.9871e-01],\n",
            "        [1.0000e+00],\n",
            "        [9.9507e-01],\n",
            "        [9.9964e-01],\n",
            "        [9.9675e-01],\n",
            "        [9.9598e-01],\n",
            "        [9.9995e-01],\n",
            "        [9.9798e-01],\n",
            "        [9.9053e-01],\n",
            "        [9.9919e-01],\n",
            "        [9.9994e-01],\n",
            "        [1.0000e+00],\n",
            "        [9.9741e-01],\n",
            "        [9.9861e-01],\n",
            "        [1.0000e+00],\n",
            "        [9.9998e-01],\n",
            "        [9.9861e-01],\n",
            "        [9.6962e-01],\n",
            "        [9.9992e-01],\n",
            "        [1.0000e+00],\n",
            "        [9.9999e-01],\n",
            "        [1.0000e+00],\n",
            "        [9.9916e-01],\n",
            "        [1.0000e+00],\n",
            "        [9.9932e-01],\n",
            "        [9.9879e-01],\n",
            "        [9.9988e-01],\n",
            "        [9.9806e-01],\n",
            "        [9.9965e-01],\n",
            "        [9.9998e-01],\n",
            "        [9.9821e-01],\n",
            "        [9.9959e-01],\n",
            "        [9.9982e-01],\n",
            "        [9.9907e-01],\n",
            "        [9.9979e-01],\n",
            "        [1.0000e+00],\n",
            "        [9.9745e-01],\n",
            "        [1.0000e+00],\n",
            "        [9.9991e-01],\n",
            "        [9.9947e-01],\n",
            "        [9.9998e-01],\n",
            "        [9.9740e-01],\n",
            "        [9.9964e-01],\n",
            "        [9.9998e-01],\n",
            "        [9.9989e-01],\n",
            "        [9.9648e-01],\n",
            "        [9.9943e-01],\n",
            "        [9.9993e-01],\n",
            "        [1.0000e+00],\n",
            "        [1.0000e+00],\n",
            "        [9.9935e-01],\n",
            "        [1.0000e+00],\n",
            "        [1.0000e+00],\n",
            "        [9.9971e-01],\n",
            "        [9.9640e-01],\n",
            "        [9.9836e-01],\n",
            "        [9.9882e-01],\n",
            "        [9.9996e-01],\n",
            "        [9.9889e-01],\n",
            "        [9.9610e-01],\n",
            "        [9.9965e-01],\n",
            "        [1.0000e+00],\n",
            "        [9.9649e-01],\n",
            "        [1.0000e+00],\n",
            "        [9.9361e-01],\n",
            "        [9.9544e-01],\n",
            "        [9.9850e-01],\n",
            "        [9.9917e-01],\n",
            "        [9.9707e-01],\n",
            "        [9.9999e-01],\n",
            "        [9.9995e-01],\n",
            "        [9.9662e-01],\n",
            "        [9.9952e-01],\n",
            "        [9.9968e-01],\n",
            "        [9.9993e-01],\n",
            "        [9.9960e-01],\n",
            "        [9.9958e-01],\n",
            "        [9.9989e-01],\n",
            "        [9.9624e-01],\n",
            "        [1.0000e+00],\n",
            "        [9.9965e-01],\n",
            "        [9.9999e-01],\n",
            "        [1.0000e+00],\n",
            "        [9.9844e-01],\n",
            "        [8.8408e-05],\n",
            "        [2.2725e-03],\n",
            "        [3.7847e-05],\n",
            "        [4.3426e-05],\n",
            "        [1.6985e-03],\n",
            "        [2.4199e-03],\n",
            "        [1.7789e-03],\n",
            "        [1.4902e-06],\n",
            "        [2.8469e-03],\n",
            "        [1.3266e-05],\n",
            "        [3.3263e-03],\n",
            "        [9.2489e-06],\n",
            "        [1.3562e-05],\n",
            "        [2.2602e-04],\n",
            "        [1.1789e-03],\n",
            "        [5.5833e-04],\n",
            "        [4.6759e-03],\n",
            "        [4.4732e-03],\n",
            "        [1.3523e-05],\n",
            "        [1.2331e-03],\n",
            "        [9.4633e-04],\n",
            "        [1.6197e-05],\n",
            "        [3.1533e-05],\n",
            "        [1.0170e-04],\n",
            "        [6.9087e-03],\n",
            "        [7.4981e-03],\n",
            "        [3.9937e-03],\n",
            "        [5.4632e-04],\n",
            "        [1.3303e-03],\n",
            "        [1.5939e-03],\n",
            "        [1.2774e-03],\n",
            "        [2.0768e-03],\n",
            "        [1.1653e-04],\n",
            "        [4.5205e-04],\n",
            "        [2.5465e-03],\n",
            "        [4.6833e-03],\n",
            "        [1.5748e-03],\n",
            "        [1.8027e-05],\n",
            "        [3.7219e-04],\n",
            "        [9.6763e-04],\n",
            "        [1.7532e-04],\n",
            "        [6.0162e-03],\n",
            "        [3.4357e-03],\n",
            "        [7.5938e-04],\n",
            "        [1.1744e-05],\n",
            "        [6.8612e-06],\n",
            "        [2.6524e-03],\n",
            "        [5.6041e-03],\n",
            "        [4.9980e-03],\n",
            "        [1.2965e-05],\n",
            "        [2.0015e-03],\n",
            "        [2.3206e-06],\n",
            "        [1.6096e-03],\n",
            "        [2.5014e-05],\n",
            "        [3.4364e-03],\n",
            "        [1.8744e-03],\n",
            "        [6.6503e-03],\n",
            "        [3.8810e-04],\n",
            "        [2.0449e-03],\n",
            "        [1.7993e-03],\n",
            "        [2.2775e-03],\n",
            "        [9.5068e-06],\n",
            "        [1.7025e-03],\n",
            "        [1.0058e-03],\n",
            "        [1.1624e-05],\n",
            "        [5.8457e-03],\n",
            "        [2.1469e-07],\n",
            "        [6.1811e-06],\n",
            "        [3.4964e-03],\n",
            "        [2.5540e-03],\n",
            "        [5.7875e-04],\n",
            "        [7.3398e-04],\n",
            "        [5.4116e-03],\n",
            "        [5.3985e-06],\n",
            "        [3.8462e-03],\n",
            "        [3.7750e-03],\n",
            "        [2.3138e-02],\n",
            "        [4.1341e-03],\n",
            "        [5.0385e-04],\n",
            "        [7.6249e-04],\n",
            "        [3.2545e-03],\n",
            "        [1.8312e-03],\n",
            "        [6.9666e-04],\n",
            "        [1.0312e-03],\n",
            "        [3.7683e-04],\n",
            "        [1.6927e-03],\n",
            "        [2.1657e-04],\n",
            "        [4.7227e-03],\n",
            "        [1.0403e-03],\n",
            "        [2.1922e-04],\n",
            "        [4.2708e-03],\n",
            "        [2.5582e-05],\n",
            "        [1.6235e-03],\n",
            "        [1.5848e-03],\n",
            "        [1.4493e-06],\n",
            "        [1.9032e-03],\n",
            "        [4.0451e-05],\n",
            "        [4.1846e-03],\n",
            "        [8.1007e-04],\n",
            "        [2.3718e-03],\n",
            "        [1.7797e-04],\n",
            "        [4.9940e-05],\n",
            "        [2.8842e-07],\n",
            "        [7.7423e-05],\n",
            "        [1.8710e-03],\n",
            "        [9.7930e-04],\n",
            "        [1.5075e-04],\n",
            "        [1.3048e-05],\n",
            "        [2.6325e-03],\n",
            "        [2.3165e-04],\n",
            "        [1.5809e-03],\n",
            "        [1.5670e-04],\n",
            "        [5.7266e-04],\n",
            "        [2.4801e-03],\n",
            "        [7.6931e-04],\n",
            "        [1.0234e-05],\n",
            "        [2.3478e-02],\n",
            "        [3.8772e-03],\n",
            "        [4.8889e-07],\n",
            "        [2.8132e-04],\n",
            "        [4.5972e-04],\n",
            "        [3.9449e-07],\n",
            "        [2.7740e-03],\n",
            "        [1.3919e-06],\n",
            "        [4.8860e-05],\n",
            "        [2.0642e-04],\n",
            "        [1.5383e-03],\n",
            "        [2.8481e-04],\n",
            "        [1.8844e-04],\n",
            "        [8.0641e-05],\n",
            "        [3.0579e-05],\n",
            "        [7.6791e-07],\n",
            "        [4.6380e-03],\n",
            "        [5.7787e-04],\n",
            "        [8.1312e-04],\n",
            "        [1.9119e-04],\n",
            "        [5.7585e-06],\n",
            "        [1.3841e-03],\n",
            "        [3.1990e-06],\n",
            "        [4.4648e-03],\n",
            "        [1.1736e-03],\n",
            "        [3.5100e-03],\n",
            "        [3.3029e-04],\n",
            "        [6.0022e-03],\n",
            "        [1.6730e-04],\n",
            "        [5.5749e-05],\n",
            "        [6.6875e-03],\n",
            "        [2.9383e-05],\n",
            "        [1.0029e-03],\n",
            "        [5.7628e-05],\n",
            "        [1.2644e-03],\n",
            "        [6.3548e-04],\n",
            "        [9.9046e-05],\n",
            "        [9.1068e-04],\n",
            "        [4.7433e-04],\n",
            "        [1.5600e-05],\n",
            "        [1.3294e-07],\n",
            "        [8.0099e-03],\n",
            "        [1.6264e-04],\n",
            "        [1.3999e-05],\n",
            "        [6.1312e-08],\n",
            "        [1.1268e-04],\n",
            "        [3.9541e-04],\n",
            "        [1.0893e-03],\n",
            "        [1.0198e-03],\n",
            "        [2.0769e-07],\n",
            "        [3.2601e-03],\n",
            "        [3.2274e-03],\n",
            "        [1.6468e-03],\n",
            "        [1.2913e-08],\n",
            "        [2.8057e-03],\n",
            "        [1.3859e-06],\n",
            "        [2.3389e-03],\n",
            "        [4.9630e-03],\n",
            "        [4.4111e-03],\n",
            "        [7.2794e-03],\n",
            "        [2.2301e-03],\n",
            "        [1.0442e-03],\n",
            "        [1.8735e-03],\n",
            "        [7.4403e-07],\n",
            "        [1.4174e-06],\n",
            "        [1.2775e-03],\n",
            "        [2.3156e-03],\n",
            "        [3.5402e-06],\n",
            "        [1.4832e-04],\n",
            "        [1.7846e-05],\n",
            "        [2.9659e-04],\n",
            "        [3.6433e-03],\n",
            "        [4.5076e-04],\n",
            "        [2.6156e-03],\n",
            "        [1.4577e-03],\n",
            "        [4.2174e-03],\n",
            "        [2.2997e-03],\n",
            "        [3.5661e-04],\n",
            "        [1.0717e-04],\n",
            "        [2.7863e-05],\n",
            "        [2.7415e-03],\n",
            "        [1.8740e-03],\n",
            "        [5.1536e-03],\n",
            "        [5.0550e-04]], grad_fn=<SigmoidBackward0>)\n"
          ]
        }
      ]
    },
    {
      "cell_type": "markdown",
      "source": [
        "## **Checking the Results**\n",
        "Now that we have used the training set to train the network, we shall use the test set to check how the neural network performs with new inputs."
      ],
      "metadata": {
        "id": "uT_u2Q_EJ4ki"
      }
    },
    {
      "cell_type": "code",
      "source": [
        "# Change values of index\n",
        "# <START>\n",
        "index = 81 #0 to 99\n",
        "# <END>\n",
        "\n",
        "plt.imshow(test_data[index].int())\n",
        "print (f'According to the neural network, index = {index} is {\"a pizza\" if model(final_test_data[index]) > 0.5 else \"not a pizza\"}' )"
      ],
      "metadata": {
        "id": "Ykt2FcjfHW0S",
        "colab": {
          "base_uri": "https://localhost:8080/",
          "height": 450
        },
        "outputId": "699f5c62-04cc-40ea-e16d-fbd7b345383e"
      },
      "execution_count": null,
      "outputs": [
        {
          "output_type": "stream",
          "name": "stdout",
          "text": [
            "According to the neural network, index = 81 is not a pizza\n"
          ]
        },
        {
          "output_type": "display_data",
          "data": {
            "text/plain": [
              "<Figure size 640x480 with 1 Axes>"
            ],
            "image/png": "[encoded data removed]"
          },
          "metadata": {}
        }
      ]
    },
    {
      "cell_type": "markdown",
      "source": [
        "To quantize how accurately the neural network is able to classify images, we have defined a helper `predict` function that takes a dataset and returns the fraction of times the neural network correctly classified the image.  \n",
        "\n",
        "Complete the function such that it prints the correct accuracy of its predictions."
      ],
      "metadata": {
        "id": "3fQcWl1rHcuL"
      }
    },
    {
      "cell_type": "code",
      "source": [
        "def predict(model, data, labels):\n",
        "\n",
        "    probabilities = model(data)\n",
        "\n",
        "    # <START>\n",
        "\n",
        "    # generate the predictions tensor using the probabilities variable, which indicates the prediction made by the model for the given data using 0 and 1\n",
        "\n",
        "    predictions = torch.zeros(size = labels.shape)\n",
        "    for index in range(data.shape[0]):\n",
        "       if(model(data[index]) > 0.5):\n",
        "        predictions[index] = 1\n",
        "       else:\n",
        "        predictions[index] = 0\n",
        "\n",
        "\n",
        "    # <END>\n",
        "\n",
        "    print(\"Accuracy: \"  + str(torch.sum((predictions == labels)).item()/predictions.shape[0]))"
      ],
      "metadata": {
        "id": "RFwT6ARBs7gT"
      },
      "execution_count": null,
      "outputs": []
    },
    {
      "cell_type": "markdown",
      "source": [
        "**Run** the cell below to find out the accuracy of your model for the training and test datasets."
      ],
      "metadata": {
        "id": "7PVdX70uLUY9"
      }
    },
    {
      "cell_type": "code",
      "source": [
        "predict(model, final_train_data, train_labels)\n",
        "predict(model,final_test_data,test_labels)\n",
        "print(\"Done!\")"
      ],
      "metadata": {
        "id": "V_iNzulpYpHH",
        "colab": {
          "base_uri": "https://localhost:8080/"
        },
        "outputId": "41866194-db6d-46c8-91a5-139b5484257b"
      },
      "execution_count": null,
      "outputs": [
        {
          "output_type": "stream",
          "name": "stdout",
          "text": [
            "Accuracy: 1.0\n",
            "Accuracy: 0.78\n",
            "Done!\n"
          ]
        }
      ]
    },
    {
      "cell_type": "markdown",
      "source": [
        "## **Extra Content (Optional)**\n",
        "##### **These are extra exercises you can try after submitting the assignment, for you to try on your own. Feel free to approach us with any doubts, but DO NOT make these changes to the notebook before you submit**\n",
        "- Try varying things like the number and size of the hidden layers, and seeing how that affects the accuracy of the network.\n",
        "- Along with `pizza` and `not_pizza`, you should see another folder `other_dishes` in the dataset. Try using it in place of `not_pizza`. What changes do you see? Why do you think this happens?"
      ],
      "metadata": {
        "id": "DYae7InELIF6"
      }
    }
  ]
}